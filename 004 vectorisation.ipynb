{
 "cells": [
  {
   "cell_type": "code",
   "execution_count": 1,
   "metadata": {
    "collapsed": true
   },
   "outputs": [],
   "source": [
    "%load_ext cython"
   ]
  },
  {
   "cell_type": "code",
   "execution_count": 2,
   "metadata": {
    "collapsed": true
   },
   "outputs": [],
   "source": [
    "import numpy as np"
   ]
  },
  {
   "cell_type": "code",
   "execution_count": 4,
   "metadata": {
    "collapsed": false
   },
   "outputs": [],
   "source": [
    "def make_arrays(n=1000):\n",
    "    a = np.random.rand(n)\n",
    "    b = np.random.rand(n)\n",
    "    c = np.random.rand(n)\n",
    "    x = np.random.rand(n)\n",
    "    return a, b, c, x"
   ]
  },
  {
   "cell_type": "markdown",
   "metadata": {},
   "source": [
    "### The numpy implementation"
   ]
  },
  {
   "cell_type": "code",
   "execution_count": 5,
   "metadata": {
    "collapsed": false
   },
   "outputs": [],
   "source": [
    "def using_numpy(a, b, c, x):\n",
    "    return a * x**2 + b * x + c"
   ]
  },
  {
   "cell_type": "markdown",
   "metadata": {},
   "source": [
    "### The cython version (vectorised)"
   ]
  },
  {
   "cell_type": "code",
   "execution_count": 7,
   "metadata": {
    "collapsed": false
   },
   "outputs": [],
   "source": [
    "%%cython\n",
    "cimport cython\n",
    "import numpy as np\n",
    "\n",
    "@cython.boundscheck(False)\n",
    "cdef void fn(double[:] a, double[:] b, double[:] c, \n",
    "                  double[:] x, double[:] answer):\n",
    "    cdef int n = a.shape[0]\n",
    "    for i in range(n):\n",
    "        answer[i] = a[i] * x[i]**2 + b[i]*x[i] + c[i]\n",
    "        \n",
    "def using_cython(a, b, c, x):\n",
    "    answer = np.zeros_like(x)\n",
    "    fn(a, b, c, x, answer)\n",
    "    return answer"
   ]
  },
  {
   "cell_type": "markdown",
   "metadata": {},
   "source": [
    "# Comparisons"
   ]
  },
  {
   "cell_type": "markdown",
   "metadata": {},
   "source": [
    "### At n = 1k"
   ]
  },
  {
   "cell_type": "code",
   "execution_count": 10,
   "metadata": {
    "collapsed": false
   },
   "outputs": [
    {
     "name": "stdout",
     "output_type": "stream",
     "text": [
      "The slowest run took 7.44 times longer than the fastest. This could mean that an intermediate result is being cached \n",
      "100000 loops, best of 3: 8.33 µs per loop\n",
      "10000 loops, best of 3: 20 µs per loop\n"
     ]
    }
   ],
   "source": [
    "a,b,c,x = make_arrays(n=1000)\n",
    "%timeit result = using_numpy(a, b, c, x)\n",
    "%timeit result = using_cython(a, b, c, x)"
   ]
  },
  {
   "cell_type": "markdown",
   "metadata": {},
   "source": [
    "### At n = (100k)"
   ]
  },
  {
   "cell_type": "code",
   "execution_count": 11,
   "metadata": {
    "collapsed": false
   },
   "outputs": [
    {
     "name": "stdout",
     "output_type": "stream",
     "text": [
      "The slowest run took 4.92 times longer than the fastest. This could mean that an intermediate result is being cached \n",
      "1000 loops, best of 3: 474 µs per loop\n",
      "1000 loops, best of 3: 396 µs per loop\n"
     ]
    }
   ],
   "source": [
    "a,b,c,x = make_arrays(n=100000)\n",
    "%timeit result = using_numpy(a, b, c, x)\n",
    "%timeit result = using_cython(a, b, c, x)"
   ]
  },
  {
   "cell_type": "markdown",
   "metadata": {},
   "source": [
    "### At n = 1M"
   ]
  },
  {
   "cell_type": "code",
   "execution_count": 12,
   "metadata": {
    "collapsed": false
   },
   "outputs": [
    {
     "name": "stdout",
     "output_type": "stream",
     "text": [
      "100 loops, best of 3: 19.1 ms per loop\n",
      "100 loops, best of 3: 6.97 ms per loop\n"
     ]
    }
   ],
   "source": [
    "a,b,c,x = make_arrays(n=1000000)\n",
    "%timeit result = using_numpy(a, b, c, x)\n",
    "%timeit result = using_cython(a, b, c, x)"
   ]
  },
  {
   "cell_type": "markdown",
   "metadata": {},
   "source": [
    "### At n = 10M"
   ]
  },
  {
   "cell_type": "code",
   "execution_count": 13,
   "metadata": {
    "collapsed": false
   },
   "outputs": [
    {
     "name": "stdout",
     "output_type": "stream",
     "text": [
      "10 loops, best of 3: 192 ms per loop\n",
      "10 loops, best of 3: 69.4 ms per loop\n"
     ]
    }
   ],
   "source": [
    "a,b,c,x = make_arrays(n=10000000)\n",
    "%timeit result = using_numpy(a, b, c, x)\n",
    "%timeit result = using_cython(a, b, c, x)"
   ]
  },
  {
   "cell_type": "markdown",
   "metadata": {},
   "source": [
    "### At n = 100M (need about 5 GB memory free)"
   ]
  },
  {
   "cell_type": "code",
   "execution_count": 15,
   "metadata": {
    "collapsed": false
   },
   "outputs": [
    {
     "name": "stdout",
     "output_type": "stream",
     "text": [
      "1 loops, best of 3: 1.88 s per loop\n",
      "1 loops, best of 3: 637 ms per loop\n"
     ]
    }
   ],
   "source": [
    "a,b,c,x = make_arrays(n=int(100e6))\n",
    "%timeit result = using_numpy(a, b, c, x)\n",
    "%timeit result = using_cython(a, b, c, x)"
   ]
  },
  {
   "cell_type": "code",
   "execution_count": null,
   "metadata": {
    "collapsed": true
   },
   "outputs": [],
   "source": []
  }
 ],
 "metadata": {
  "kernelspec": {
   "display_name": "Python 2",
   "language": "python",
   "name": "python2"
  },
  "language_info": {
   "codemirror_mode": {
    "name": "ipython",
    "version": 2
   },
   "file_extension": ".py",
   "mimetype": "text/x-python",
   "name": "python",
   "nbconvert_exporter": "python",
   "pygments_lexer": "ipython2",
   "version": "2.7.6"
  }
 },
 "nbformat": 4,
 "nbformat_minor": 0
}
