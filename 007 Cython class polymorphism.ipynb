{
 "cells": [
  {
   "cell_type": "code",
   "execution_count": 1,
   "metadata": {
    "collapsed": false
   },
   "outputs": [],
   "source": [
    "%load_ext cython"
   ]
  },
  {
   "cell_type": "code",
   "execution_count": 2,
   "metadata": {
    "collapsed": false
   },
   "outputs": [],
   "source": [
    "%%cython\n",
    "cdef class A:\n",
    "    cpdef fun(self):\n",
    "        return \"I'm in A!\"\n",
    "    \n",
    "cdef class B(A):\n",
    "    cpdef fun(self):\n",
    "        return \"I'm in B!\"  # <=== override\n",
    "    \n",
    "cdef class C:\n",
    "    cdef readonly A obj  # <=== The type is \"A\"!\n",
    "    def __init__(self, obj):\n",
    "        self.obj = obj\n"
   ]
  },
  {
   "cell_type": "code",
   "execution_count": 3,
   "metadata": {
    "collapsed": false
   },
   "outputs": [],
   "source": [
    "instance_of_B = B()\n",
    "c=C(instance_of_B)"
   ]
  },
  {
   "cell_type": "code",
   "execution_count": 4,
   "metadata": {
    "collapsed": false
   },
   "outputs": [
    {
     "data": {
      "text/plain": [
       "\"I'm in B!\""
      ]
     },
     "execution_count": 4,
     "metadata": {},
     "output_type": "execute_result"
    }
   ],
   "source": [
    "c.obj.fun()"
   ]
  },
  {
   "cell_type": "code",
   "execution_count": 5,
   "metadata": {
    "collapsed": false
   },
   "outputs": [],
   "source": [
    "%%cython\n",
    "cdef class A:\n",
    "    cdef fun(self):  # <============= not cpdef\n",
    "        return \"I'm in A!\"\n",
    "    \n",
    "cdef class B(A):\n",
    "    cdef fun(self):  # <============= not cpdef\n",
    "        return \"I'm in B!\"  \n",
    "    \n",
    "cdef class C:\n",
    "    cdef readonly A obj  \n",
    "    def __init__(self, obj):\n",
    "        self.obj = obj\n",
    "    def call(self):\n",
    "        return self.obj.fun()  # because we can't from python (cdef not cpdef)       "
   ]
  },
  {
   "cell_type": "code",
   "execution_count": 6,
   "metadata": {
    "collapsed": false
   },
   "outputs": [],
   "source": [
    "b=B()\n",
    "c=C(b)"
   ]
  },
  {
   "cell_type": "code",
   "execution_count": 7,
   "metadata": {
    "collapsed": false
   },
   "outputs": [
    {
     "data": {
      "text/plain": [
       "\"I'm in B!\""
      ]
     },
     "execution_count": 7,
     "metadata": {},
     "output_type": "execute_result"
    }
   ],
   "source": [
    "c.call()"
   ]
  },
  {
   "cell_type": "code",
   "execution_count": null,
   "metadata": {
    "collapsed": false
   },
   "outputs": [],
   "source": []
  }
 ],
 "metadata": {
  "kernelspec": {
   "display_name": "Python 2",
   "language": "python",
   "name": "python2"
  },
  "language_info": {
   "codemirror_mode": {
    "name": "ipython",
    "version": 2
   },
   "file_extension": ".py",
   "mimetype": "text/x-python",
   "name": "python",
   "nbconvert_exporter": "python",
   "pygments_lexer": "ipython2",
   "version": "2.7.6"
  }
 },
 "nbformat": 4,
 "nbformat_minor": 0
}
